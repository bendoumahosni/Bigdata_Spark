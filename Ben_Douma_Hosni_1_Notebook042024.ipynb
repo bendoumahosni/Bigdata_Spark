{
 "cells": [
  {
   "cell_type": "markdown",
   "metadata": {
    "application/vnd.databricks.v1+cell": {
     "cellMetadata": {},
     "inputWidgets": {},
     "nuid": "e1915f1e-fc8b-4f83-bfdd-30fce6a60b47",
     "showTitle": false,
     "title": ""
    }
   },
   "source": [
    "###  Démarrage de la session Spark"
   ]
  },
  {
   "cell_type": "code",
   "execution_count": null,
   "metadata": {
    "application/vnd.databricks.v1+cell": {
     "cellMetadata": {
      "byteLimit": 2048000,
      "rowLimit": 10000
     },
     "inputWidgets": {},
     "nuid": "241178ed-3783-4fae-98cb-7517652f7657",
     "showTitle": false,
     "title": ""
    }
   },
   "outputs": [],
   "source": [
    "# L'exécution de cette cellule démarre l'application Spark"
   ]
  },
  {
   "cell_type": "markdown",
   "metadata": {
    "application/vnd.databricks.v1+cell": {
     "cellMetadata": {},
     "inputWidgets": {},
     "nuid": "8cbbfca1-59e7-4319-8548-6adab2c5f391",
     "showTitle": false,
     "title": ""
    }
   },
   "source": [
    "<u>Affichage des informations sur la session en cours et liens vers Spark UI</u> :"
   ]
  },
  {
   "cell_type": "markdown",
   "metadata": {
    "application/vnd.databricks.v1+cell": {
     "cellMetadata": {},
     "inputWidgets": {},
     "nuid": "ad749655-5477-4060-aab6-129b4841eeed",
     "showTitle": false,
     "title": ""
    }
   },
   "source": [
    "###  Installation des packages\n",
    "\n",
    "les packages sont installés directement par Databricks \n",
    "\n",
    "\n",
    "###  Import des librairies"
   ]
  },
  {
   "cell_type": "code",
   "execution_count": null,
   "metadata": {
    "application/vnd.databricks.v1+cell": {
     "cellMetadata": {
      "byteLimit": 2048000,
      "rowLimit": 10000
     },
     "inputWidgets": {},
     "nuid": "b095de05-1f46-4e5d-8e39-21917ebbdf7d",
     "showTitle": false,
     "title": ""
    }
   },
   "outputs": [
    {
     "name": "stderr",
     "output_type": "stream",
     "text": [
      "2024-04-15 12:50:30.824883: I tensorflow/core/platform/cpu_feature_guard.cc:182] This TensorFlow binary is optimized to use available CPU instructions in performance-critical operations.\n",
      "To enable the following instructions: AVX2 FMA, in other operations, rebuild TensorFlow with the appropriate compiler flags.\n"
     ]
    }
   ],
   "source": [
    "import pandas as pd\n",
    "import numpy as np\n",
    "import io\n",
    "import os\n",
    "import tensorflow as tf\n",
    "from PIL import Image\n",
    "from tensorflow.keras.applications.mobilenet_v2 import MobileNetV2, preprocess_input\n",
    "from tensorflow.keras.preprocessing.image import img_to_array\n",
    "from tensorflow.keras import Model\n",
    "from pyspark.sql.functions import col, pandas_udf, PandasUDFType, element_at, split"
   ]
  },
  {
   "cell_type": "markdown",
   "metadata": {
    "application/vnd.databricks.v1+cell": {
     "cellMetadata": {},
     "inputWidgets": {},
     "nuid": "dd93726f-4f21-4b95-a6ee-61a5b9314d78",
     "showTitle": false,
     "title": ""
    }
   },
   "source": [
    "###  Définition des PATH pour charger les images et enregistrer les résultats"
   ]
  },
  {
   "cell_type": "code",
   "execution_count": null,
   "metadata": {
    "application/vnd.databricks.v1+cell": {
     "cellMetadata": {
      "byteLimit": 2048000,
      "rowLimit": 10000
     },
     "inputWidgets": {},
     "nuid": "05c6a184-7f61-471f-80a7-04ff3c990666",
     "showTitle": false,
     "title": ""
    }
   },
   "outputs": [
    {
     "name": "stdout",
     "output_type": "stream",
     "text": [
      "PATH:        s3://projet9\n",
      "PATH_Data:   s3://projet9/Test1\n",
      "PATH_Result: s3://projet9/Results\n"
     ]
    }
   ],
   "source": [
    "PATH = 's3://projet9'\n",
    "PATH_Data = PATH+'/Test1'\n",
    "PATH_Result = PATH+'/Results'\n",
    "print('PATH:        '+\\\n",
    "      PATH+'\\nPATH_Data:   '+\\\n",
    "      PATH_Data+'\\nPATH_Result: '+PATH_Result)"
   ]
  },
  {
   "cell_type": "markdown",
   "metadata": {},
   "source": [
    "## Liaison avec S3"
   ]
  },
  {
   "cell_type": "code",
   "execution_count": null,
   "metadata": {
    "application/vnd.databricks.v1+cell": {
     "cellMetadata": {
      "byteLimit": 2048000,
      "rowLimit": 10000
     },
     "inputWidgets": {},
     "nuid": "d35f61df-3ec9-4455-bdbe-f911fdfba0ec",
     "showTitle": false,
     "title": ""
    }
   },
   "outputs": [
    {
     "name": "stdout",
     "output_type": "stream",
     "text": [
      "+-----------------------------------------------------------------------------------+\n",
      "|����\u0000\u0010JFIF\u0000\u0001\u0001\u0000\u0000\u0001\u0000\u0001\u0000\u0000��\u0000C\u0000\u0002\u0001\u0001\u0001\u0001\u0001\u0002\u0001\u0001\u0001\u0002\u0002\u0002\u0002\u0002\u0004\u0003\u0002\u0002\u0002\u0002\u0005\u0004\u0004\u0003\u0004\u0006\u0005\u0006\u0006\u0006\u0005\u0006\u0006\u0006\\a\\t\\b\u0006\\a\\t\\a\u0006\u0006\\b\\v\\b\\t|\n",
      "+-----------------------------------------------------------------------------------+\n",
      "|                                                                    ��\u0000C\u0001\u0002\u0002\u0002\u0002\u0002\u0002\u0005\u0003\u0003\u0005|\n",
      "|                                                               ��\u0000\u0011\\b\u0000d\u0000d\u0003\u0001\"\u0000\u0002\u0011\u0001...|\n",
      "|                                                               \\v��\u0000�\u0010\u0000\u0002\u0001\u0003\u0003\u0002\u0004\u0003\u0005\u0005...|\n",
      "|                                                               \u0016\u0017\u0018\u0019\u001a%&'()*456789...|\n",
      "|                                                               \\v��\u0000�\u0011\u0000\u0002\u0001\u0002\u0004\u0004\u0003\u0004\\a...|\n",
      "|                                                               \u0016$4�%�\u0017\u0018\u0019\u001a&'()*56...|\n",
      "|                                                                         �F\\tP�6+>�|\n",
      "|                                                               ���v��M_�ƣ�=BmW^�...|\n",
      "|                                                               �\u0000௿�Wë�m7ƛ�^�p�\u0006�...|\n",
      "|                                                                          ����\\th&v|\n",
      "|                                                               �\u001b+*L\u0014�\u0018u\u0019�y\\a?L�...|\n",
      "|                                                               \u001d�����h\u001a�G�x�M�S�...|\n",
      "|                                                               u?\u0010M\u001b\u0015̈́NV8�nCʬH#\u001f...|\n",
      "|                                                                               �\u001bdF|\n",
      "|                                                               \\fD�\u0006q�'��@O_Z�G�...|\n",
      "|                                                               \u0015�\u0006T�˲�uC�٬soR�@[...|\n",
      "|                                                               �/j~\u0019��:����#�(�?...|\n",
      "|                                                               iWF\u000f\u0011��!Է\u0015���ϔ`�*...|\n",
      "|                                                               \u0015���\u0000\u0004���\u0013�?��\\f�...|\n",
      "|                                                                               ь�荟|\n",
      "+-----------------------------------------------------------------------------------+\n",
      "only showing top 20 rows\n",
      "\n"
     ]
    }
   ],
   "source": [
    "\n",
    "access_key = 'XXXXXXXXXXXXXXXXXXXXX'\n",
    "secret_key = 'XXXXXXXXXXXXXXXXXXXXXXXXXXXXXXXXXXX'\n",
    "sc._jsc.hadoopConfiguration().set(\"fs.s3a.access.key\", access_key)\n",
    "sc._jsc.hadoopConfiguration().set(\"fs.s3a.secret.key\", secret_key)\n",
    "\n",
    "# If you are using Auto Loader file notification mode to load files, provide the AWS Region ID.\n",
    "aws_region = \"eu-west-1\"\n",
    "sc._jsc.hadoopConfiguration().set(\"fs.s3a.endpoint\", \"s3.\" + aws_region + \".amazonaws.com\")\n",
    "\n",
    "df = spark.read.csv('s3a://projet9/Test1/*',inferSchema=True,header=True)\n",
    "#Example#\n",
    "\n",
    "df.show()"
   ]
  },
  {
   "cell_type": "code",
   "execution_count": null,
   "metadata": {
    "application/vnd.databricks.v1+cell": {
     "cellMetadata": {
      "byteLimit": 2048000,
      "rowLimit": 10000
     },
     "inputWidgets": {},
     "nuid": "94224972-5d98-4270-acad-e8f2467097eb",
     "showTitle": false,
     "title": ""
    }
   },
   "outputs": [
    {
     "data": {
      "text/plain": [
       "True"
      ]
     },
     "execution_count": 2,
     "metadata": {},
     "output_type": "execute_result"
    }
   ],
   "source": [
    "dbutils.fs.mount(\"s3a://projet9\", \"/mnt/s3\")\n"
   ]
  },
  {
   "cell_type": "code",
   "execution_count": null,
   "metadata": {
    "application/vnd.databricks.v1+cell": {
     "cellMetadata": {
      "byteLimit": 2048000,
      "rowLimit": 10000
     },
     "inputWidgets": {},
     "nuid": "cfe70747-d75d-41d4-bfdd-14a6c23ad7dd",
     "showTitle": false,
     "title": ""
    }
   },
   "outputs": [],
   "source": [
    "images_df = spark.read.format(\"image\").load(\"/mnt/s3/Test1\")\n"
   ]
  },
  {
   "cell_type": "markdown",
   "metadata": {
    "application/vnd.databricks.v1+cell": {
     "cellMetadata": {},
     "inputWidgets": {},
     "nuid": "8fe2e208-4e71-4aaa-a129-bb4e8acb046d",
     "showTitle": false,
     "title": ""
    }
   },
   "source": [
    "###  Traitement des données"
   ]
  },
  {
   "cell_type": "markdown",
   "metadata": {
    "application/vnd.databricks.v1+cell": {
     "cellMetadata": {},
     "inputWidgets": {},
     "nuid": "d6d314a6-bd3f-4869-9514-88d5ab1e075b",
     "showTitle": false,
     "title": ""
    }
   },
   "source": [
    "####  Chargement des données"
   ]
  },
  {
   "cell_type": "code",
   "execution_count": null,
   "metadata": {
    "application/vnd.databricks.v1+cell": {
     "cellMetadata": {
      "byteLimit": 2048000,
      "rowLimit": 10000
     },
     "inputWidgets": {},
     "nuid": "faa175ed-b18a-4b3c-a087-37dd6b3f4015",
     "showTitle": false,
     "title": ""
    }
   },
   "outputs": [],
   "source": [
    "images = spark.read.format(\"binaryFile\") \\\n",
    "  .option(\"pathGlobFilter\", \"*.jpg\") \\\n",
    "  .option(\"recursiveFileLookup\", \"true\") \\\n",
    "  .load(\"/mnt/s3/Test1\")"
   ]
  },
  {
   "cell_type": "code",
   "execution_count": null,
   "metadata": {
    "application/vnd.databricks.v1+cell": {
     "cellMetadata": {
      "byteLimit": 2048000,
      "rowLimit": 10000
     },
     "inputWidgets": {},
     "nuid": "4bb2af47-36ff-47c0-865b-6cb8a5194528",
     "showTitle": false,
     "title": ""
    }
   },
   "outputs": [
    {
     "name": "stdout",
     "output_type": "stream",
     "text": [
      "+--------------------+-------------------+------+--------------------+\n",
      "|                path|   modificationTime|length|             content|\n",
      "+--------------------+-------------------+------+--------------------+\n",
      "|dbfs:/mnt/s3/Test...|2024-04-11 22:36:32|  5638|[FF D8 FF E0 00 1...|\n",
      "|dbfs:/mnt/s3/Test...|2024-04-11 22:36:32|  5634|[FF D8 FF E0 00 1...|\n",
      "|dbfs:/mnt/s3/Test...|2024-04-11 22:36:35|  5633|[FF D8 FF E0 00 1...|\n",
      "|dbfs:/mnt/s3/Test...|2024-04-11 22:36:37|  5618|[FF D8 FF E0 00 1...|\n",
      "|dbfs:/mnt/s3/Test...|2024-04-11 22:36:33|  5611|[FF D8 FF E0 00 1...|\n",
      "+--------------------+-------------------+------+--------------------+\n",
      "only showing top 5 rows\n",
      "\n"
     ]
    }
   ],
   "source": [
    "images.show(5)"
   ]
  },
  {
   "cell_type": "markdown",
   "metadata": {
    "application/vnd.databricks.v1+cell": {
     "cellMetadata": {},
     "inputWidgets": {},
     "nuid": "8dcf7b9a-f456-442e-9278-e606d9448c52",
     "showTitle": false,
     "title": ""
    }
   },
   "source": [
    "<u>Je ne conserve que le **path** de l'image et j'ajoute <br />\n",
    "    une colonne contenant les **labels** de chaque image</u> :"
   ]
  },
  {
   "cell_type": "code",
   "execution_count": null,
   "metadata": {
    "application/vnd.databricks.v1+cell": {
     "cellMetadata": {
      "byteLimit": 2048000,
      "rowLimit": 10000
     },
     "inputWidgets": {},
     "nuid": "65b1dae2-6655-4eb6-ae52-b0d5530d3833",
     "showTitle": false,
     "title": ""
    }
   },
   "outputs": [
    {
     "name": "stdout",
     "output_type": "stream",
     "text": [
      "root\n",
      " |-- path: string (nullable = true)\n",
      " |-- modificationTime: timestamp (nullable = true)\n",
      " |-- length: long (nullable = true)\n",
      " |-- content: binary (nullable = true)\n",
      " |-- label: string (nullable = true)\n",
      "\n",
      "None\n",
      "+--------------------------------------------------+------------------+\n",
      "|path                                              |label             |\n",
      "+--------------------------------------------------+------------------+\n",
      "|dbfs:/mnt/s3/Test1/Apple Crimson Snow/r_25_100.jpg|Apple Crimson Snow|\n",
      "|dbfs:/mnt/s3/Test1/Apple Crimson Snow/r_24_100.jpg|Apple Crimson Snow|\n",
      "|dbfs:/mnt/s3/Test1/Apple Crimson Snow/r_30_100.jpg|Apple Crimson Snow|\n",
      "|dbfs:/mnt/s3/Test1/Apple Crimson Snow/r_32_100.jpg|Apple Crimson Snow|\n",
      "|dbfs:/mnt/s3/Test1/Apple Crimson Snow/r_26_100.jpg|Apple Crimson Snow|\n",
      "+--------------------------------------------------+------------------+\n",
      "only showing top 5 rows\n",
      "\n",
      "None\n"
     ]
    }
   ],
   "source": [
    "from pyspark.sql.functions import element_at, split\n",
    "images = images.withColumn('label', element_at(split(images['path'], '/'),-2))\n",
    "print(images.printSchema())\n",
    "print(images.select('path','label').show(5,False))"
   ]
  },
  {
   "cell_type": "markdown",
   "metadata": {
    "application/vnd.databricks.v1+cell": {
     "cellMetadata": {},
     "inputWidgets": {},
     "nuid": "4af032fd-8765-4797-925d-98d4c1a3ce34",
     "showTitle": false,
     "title": ""
    }
   },
   "source": [
    "####  Préparation du modèle"
   ]
  },
  {
   "cell_type": "code",
   "execution_count": null,
   "metadata": {
    "application/vnd.databricks.v1+cell": {
     "cellMetadata": {},
     "inputWidgets": {},
     "nuid": "5b956822-b114-41ca-a0e5-28c7f0264419",
     "showTitle": false,
     "title": ""
    }
   },
   "outputs": [],
   "source": [
    "import tensorflow as tf\n",
    "from tensorflow.keras.applications.mobilenet_v2 import MobileNetV2, preprocess_input\n",
    "from tensorflow.keras.preprocessing.image import img_to_array\n",
    "from tensorflow.keras import Model\n",
    "from pyspark.sql.functions import col, pandas_udf, PandasUDFType, element_at, split\n",
    "from pyspark.sql import SparkSession"
   ]
  },
  {
   "cell_type": "code",
   "execution_count": null,
   "metadata": {
    "application/vnd.databricks.v1+cell": {
     "cellMetadata": {
      "byteLimit": 2048000,
      "rowLimit": 10000
     },
     "inputWidgets": {},
     "nuid": "483917a0-2af5-43e8-a994-149ef528ad50",
     "showTitle": false,
     "title": ""
    }
   },
   "outputs": [
    {
     "name": "stdout",
     "output_type": "stream",
     "text": [
      "Downloading data from https://storage.googleapis.com/tensorflow/keras-applications/mobilenet_v2/mobilenet_v2_weights_tf_dim_ordering_tf_kernels_1.0_224.h5\n",
      "\r    8192/14536120 [..............................] - ETA: 0s\b\b\b\b\b\b\b\b\b\b\b\b\b\b\b\b\b\b\b\b\b\b\b\b\b\b\b\b\b\b\b\b\b\b\b\b\b\b\b\b\b\b\b\b\b\b\b\b\b\b\b\b\b\b\b\b\b\b\b\b\r   49152/14536120 [..............................] - ETA: 37s\b\b\b\b\b\b\b\b\b\b\b\b\b\b\b\b\b\b\b\b\b\b\b\b\b\b\b\b\b\b\b\b\b\b\b\b\b\b\b\b\b\b\b\b\b\b\b\b\b\b\b\b\b\b\b\b\b\b\b\b\b\r   81920/14536120 [..............................] - ETA: 36s\b\b\b\b\b\b\b\b\b\b\b\b\b\b\b\b\b\b\b\b\b\b\b\b\b\b\b\b\b\b\b\b\b\b\b\b\b\b\b\b\b\b\b\b\b\b\b\b\b\b\b\b\b\b\b\b\b\b\b\b\b\r  147456/14536120 [..............................] - ETA: 25s\b\b\b\b\b\b\b\b\b\b\b\b\b\b\b\b\b\b\b\b\b\b\b\b\b\b\b\b\b\b\b\b\b\b\b\b\b\b\b\b\b\b\b\b\b\b\b\b\b\b\b\b\b\b\b\b\b\b\b\b\b\r  212992/14536120 [..............................] - ETA: 21s\b\b\b\b\b\b\b\b\b\b\b\b\b\b\b\b\b\b\b\b\b\b\b\b\b\b\b\b\b\b\b\b\b\b\b\b\b\b\b\b\b\b\b\b\b\b\b\b\b\b\b\b\b\b\b\b\b\b\b\b\b\r  311296/14536120 [..............................] - ETA: 16s\b\b\b\b\b\b\b\b\b\b\b\b\b\b\b\b\b\b\b\b\b\b\b\b\b\b\b\b\b\b\b\b\b\b\b\b\b\b\b\b\b\b\b\b\b\b\b\b\b\b\b\b\b\b\b\b\b\b\b\b\b\r  491520/14536120 [>.............................] - ETA: 12s\b\b\b\b\b\b\b\b\b\b\b\b\b\b\b\b\b\b\b\b\b\b\b\b\b\b\b\b\b\b\b\b\b\b\b\b\b\b\b\b\b\b\b\b\b\b\b\b\b\b\b\b\b\b\b\b\b\b\b\b\b\r  737280/14536120 [>.............................] - ETA: 8s \b\b\b\b\b\b\b\b\b\b\b\b\b\b\b\b\b\b\b\b\b\b\b\b\b\b\b\b\b\b\b\b\b\b\b\b\b\b\b\b\b\b\b\b\b\b\b\b\b\b\b\b\b\b\b\b\b\b\b\b\r 1081344/14536120 [=>............................] - ETA: 6s\b\b\b\b\b\b\b\b\b\b\b\b\b\b\b\b\b\b\b\b\b\b\b\b\b\b\b\b\b\b\b\b\b\b\b\b\b\b\b\b\b\b\b\b\b\b\b\b\b\b\b\b\b\b\b\b\b\b\b\b\r 1785856/14536120 [==>...........................] - ETA: 4s\b\b\b\b\b\b\b\b\b\b\b\b\b\b\b\b\b\b\b\b\b\b\b\b\b\b\b\b\b\b\b\b\b\b\b\b\b\b\b\b\b\b\b\b\b\b\b\b\b\b\b\b\b\b\b\b\b\b\b\b\r 2826240/14536120 [====>.........................] - ETA: 2s\b\b\b\b\b\b\b\b\b\b\b\b\b\b\b\b\b\b\b\b\b\b\b\b\b\b\b\b\b\b\b\b\b\b\b\b\b\b\b\b\b\b\b\b\b\b\b\b\b\b\b\b\b\b\b\b\b\b\b\b\r 4259840/14536120 [=======>......................] - ETA: 1s\b\b\b\b\b\b\b\b\b\b\b\b\b\b\b\b\b\b\b\b\b\b\b\b\b\b\b\b\b\b\b\b\b\b\b\b\b\b\b\b\b\b\b\b\b\b\b\b\b\b\b\b\b\b\b\b\b\b\b\b\r 6537216/14536120 [============>.................] - ETA: 0s\b\b\b\b\b\b\b\b\b\b\b\b\b\b\b\b\b\b\b\b\b\b\b\b\b\b\b\b\b\b\b\b\b\b\b\b\b\b\b\b\b\b\b\b\b\b\b\b\b\b\b\b\b\b\b\b\b\b\b\b\r 8552448/14536120 [================>.............] - ETA: 0s\b\b\b\b\b\b\b\b\b\b\b\b\b\b\b\b\b\b\b\b\b\b\b\b\b\b\b\b\b\b\b\b\b\b\b\b\b\b\b\b\b\b\b\b\b\b\b\b\b\b\b\b\b\b\b\b\b\b\b\b\r10510336/14536120 [====================>.........] - ETA: 0s\b\b\b\b\b\b\b\b\b\b\b\b\b\b\b\b\b\b\b\b\b\b\b\b\b\b\b\b\b\b\b\b\b\b\b\b\b\b\b\b\b\b\b\b\b\b\b\b\b\b\b\b\b\b\b\b\b\b\b\b\r12140544/14536120 [========================>.....] - ETA: 0s\b\b\b\b\b\b\b\b\b\b\b\b\b\b\b\b\b\b\b\b\b\b\b\b\b\b\b\b\b\b\b\b\b\b\b\b\b\b\b\b\b\b\b\b\b\b\b\b\b\b\b\b\b\b\b\b\b\b\b\b\r14536120/14536120 [==============================] - 1s 0us/step\n"
     ]
    }
   ],
   "source": [
    "model = MobileNetV2(weights='imagenet',\n",
    "                    include_top=True,\n",
    "                    input_shape=(224, 224, 3))"
   ]
  },
  {
   "cell_type": "code",
   "execution_count": null,
   "metadata": {
    "application/vnd.databricks.v1+cell": {
     "cellMetadata": {
      "byteLimit": 2048000,
      "rowLimit": 10000
     },
     "inputWidgets": {},
     "nuid": "2f192d6a-9ef5-4240-847f-7415ea898e54",
     "showTitle": false,
     "title": ""
    }
   },
   "outputs": [],
   "source": [
    "new_model = Model(inputs=model.input,\n",
    "                  outputs=model.layers[-2].output)"
   ]
  },
  {
   "cell_type": "markdown",
   "metadata": {},
   "source": [
    "## Diffusion des poids sur les workers"
   ]
  },
  {
   "cell_type": "code",
   "execution_count": null,
   "metadata": {
    "application/vnd.databricks.v1+cell": {
     "cellMetadata": {
      "byteLimit": 2048000,
      "rowLimit": 10000
     },
     "inputWidgets": {},
     "nuid": "0662b7f5-032b-4cf3-b52b-3d12510e5b91",
     "showTitle": false,
     "title": ""
    }
   },
   "outputs": [],
   "source": [
    "brodcast_weights = sc.broadcast(new_model.get_weights())"
   ]
  },
  {
   "cell_type": "code",
   "execution_count": null,
   "metadata": {
    "application/vnd.databricks.v1+cell": {
     "cellMetadata": {
      "byteLimit": 2048000,
      "rowLimit": 10000
     },
     "inputWidgets": {},
     "nuid": "4bb7328a-5e81-4e84-acd8-2a5cf6b6c9cd",
     "showTitle": false,
     "title": ""
    }
   },
   "outputs": [
    {
     "name": "stdout",
     "output_type": "stream",
     "text": [
      "Model: \"model\"\n",
      "__________________________________________________________________________________________________\n",
      " Layer (type)                Output Shape                 Param #   Connected to                  \n",
      "==================================================================================================\n",
      " input_1 (InputLayer)        [(None, 224, 224, 3)]        0         []                            \n",
      "                                                                                                  \n",
      " Conv1 (Conv2D)              (None, 112, 112, 32)         864       ['input_1[0][0]']             \n",
      "                                                                                                  \n",
      " bn_Conv1 (BatchNormalizati  (None, 112, 112, 32)         128       ['Conv1[0][0]']               \n",
      " on)                                                                                              \n",
      "                                                                                                  \n",
      " Conv1_relu (ReLU)           (None, 112, 112, 32)         0         ['bn_Conv1[0][0]']            \n",
      "                                                                                                  \n",
      " expanded_conv_depthwise (D  (None, 112, 112, 32)         288       ['Conv1_relu[0][0]']          \n",
      " epthwiseConv2D)                                                                                  \n",
      "                                                                                                  \n",
      " expanded_conv_depthwise_BN  (None, 112, 112, 32)         128       ['expanded_conv_depthwise[0][0\n",
      "  (BatchNormalization)                                              ]']                           \n",
      "                                                                                                  \n",
      " expanded_conv_depthwise_re  (None, 112, 112, 32)         0         ['expanded_conv_depthwise_BN[0\n",
      " lu (ReLU)                                                          ][0]']                        \n",
      "                                                                                                  \n",
      " expanded_conv_project (Con  (None, 112, 112, 16)         512       ['expanded_conv_depthwise_relu\n",
      " v2D)                                                               [0][0]']                      \n",
      "                                                                                                  \n",
      " expanded_conv_project_BN (  (None, 112, 112, 16)         64        ['expanded_conv_project[0][0]'\n",
      " BatchNormalization)                                                ]                             \n",
      "                                                                                                  \n",
      " block_1_expand (Conv2D)     (None, 112, 112, 96)         1536      ['expanded_conv_project_BN[0][\n",
      "                                                                    0]']                          \n",
      "                                                                                                  \n",
      " block_1_expand_BN (BatchNo  (None, 112, 112, 96)         384       ['block_1_expand[0][0]']      \n",
      " rmalization)                                                                                     \n",
      "                                                                                                  \n",
      " block_1_expand_relu (ReLU)  (None, 112, 112, 96)         0         ['block_1_expand_BN[0][0]']   \n",
      "                                                                                                  \n",
      " block_1_pad (ZeroPadding2D  (None, 113, 113, 96)         0         ['block_1_expand_relu[0][0]'] \n",
      " )                                                                                                \n",
      "                                                                                                  \n",
      " block_1_depthwise (Depthwi  (None, 56, 56, 96)           864       ['block_1_pad[0][0]']         \n",
      " seConv2D)                                                                                        \n",
      "                                                                                                  \n",
      " block_1_depthwise_BN (Batc  (None, 56, 56, 96)           384       ['block_1_depthwise[0][0]']   \n",
      " hNormalization)                                                                                  \n",
      "                                                                                                  \n",
      " block_1_depthwise_relu (Re  (None, 56, 56, 96)           0         ['block_1_depthwise_BN[0][0]']\n",
      " LU)                                                                                              \n",
      "                                                                                                  \n",
      " block_1_project (Conv2D)    (None, 56, 56, 24)           2304      ['block_1_depthwise_relu[0][0]\n",
      "                                                                    ']                            \n",
      "                                                                                                  \n",
      " block_1_project_BN (BatchN  (None, 56, 56, 24)           96        ['block_1_project[0][0]']     \n",
      " ormalization)                                                                                    \n",
      "                                                                                                  \n",
      " block_2_expand (Conv2D)     (None, 56, 56, 144)          3456      ['block_1_project_BN[0][0]']  \n",
      "                                                                                                  \n",
      " block_2_expand_BN (BatchNo  (None, 56, 56, 144)          576       ['block_2_expand[0][0]']      \n",
      " rmalization)                                                                                     \n",
      "                                                                                                  \n",
      " block_2_expand_relu (ReLU)  (None, 56, 56, 144)          0         ['block_2_expand_BN[0][0]']   \n",
      "                                                                                                  \n",
      " block_2_depthwise (Depthwi  (None, 56, 56, 144)          1296      ['block_2_expand_relu[0][0]'] \n",
      " seConv2D)                                                                                        \n",
      "                                                                                                  \n",
      " block_2_depthwise_BN (Batc  (None, 56, 56, 144)          576       ['block_2_depthwise[0][0]']   \n",
      " hNormalization)                                                                                  \n",
      "                                                                                                  \n",
      " block_2_depthwise_relu (Re  (None, 56, 56, 144)          0         ['block_2_depthwise_BN[0][0]']\n",
      " LU)                                                                                              \n",
      "                                                                                                  \n",
      " block_2_project (Conv2D)    (None, 56, 56, 24)           3456      ['block_2_depthwise_relu[0][0]\n",
      "                                                                    ']                            \n",
      "                                                                                                  \n",
      " block_2_project_BN (BatchN  (None, 56, 56, 24)           96        ['block_2_project[0][0]']     \n",
      " ormalization)                                                                                    \n",
      "                                                                                                  \n",
      " block_2_add (Add)           (None, 56, 56, 24)           0         ['block_1_project_BN[0][0]',  \n",
      "                                                                     'block_2_project_BN[0][0]']  \n",
      "                                                                                                  \n",
      " block_3_expand (Conv2D)     (None, 56, 56, 144)          3456      ['block_2_add[0][0]']         \n",
      "                                                                                                  \n",
      " block_3_expand_BN (BatchNo  (None, 56, 56, 144)          576       ['block_3_expand[0][0]']      \n",
      " rmalization)                                                                                     \n",
      "                                                                                                  \n",
      " block_3_expand_relu (ReLU)  (None, 56, 56, 144)          0         ['block_3_expand_BN[0][0]']   \n",
      "                                                                                                  \n",
      " block_3_pad (ZeroPadding2D  (None, 57, 57, 144)          0         ['block_3_expand_relu[0][0]'] \n",
      " )                                                                                                \n",
      "                                                                                                  \n",
      " block_3_depthwise (Depthwi  (None, 28, 28, 144)          1296      ['block_3_pad[0][0]']         \n",
      " seConv2D)                                                                                        \n",
      "                                                                                                  \n",
      " block_3_depthwise_BN (Batc  (None, 28, 28, 144)          576       ['block_3_depthwise[0][0]']   \n",
      " hNormalization)                                                                                  \n",
      "                                                                                                  \n",
      " block_3_depthwise_relu (Re  (None, 28, 28, 144)          0         ['block_3_depthwise_BN[0][0]']\n",
      " LU)                                                                                              \n",
      "                                                                                                  \n",
      " block_3_project (Conv2D)    (None, 28, 28, 32)           4608      ['block_3_depthwise_relu[0][0]\n",
      "                                                                    ']                            \n",
      "                                                                                                  \n",
      " block_3_project_BN (BatchN  (None, 28, 28, 32)           128       ['block_3_project[0][0]']     \n",
      " ormalization)                                                                                    \n",
      "                                                                                                  \n",
      " block_4_expand (Conv2D)     (None, 28, 28, 192)          6144      ['block_3_project_BN[0][0]']  \n",
      "                                                                                                  \n",
      " block_4_expand_BN (BatchNo  (None, 28, 28, 192)          768       ['block_4_expand[0][0]']      \n",
      " rmalization)                                                                                     \n",
      "                                                                                                  \n",
      " block_4_expand_relu (ReLU)  (None, 28, 28, 192)          0         ['block_4_expand_BN[0][0]']   \n",
      "                                                                                                  \n",
      " block_4_depthwise (Depthwi  (None, 28, 28, 192)          1728      ['block_4_expand_relu[0][0]'] \n",
      " seConv2D)                                                                                        \n",
      "                                                                                                  \n",
      " block_4_depthwise_BN (Batc  (None, 28, 28, 192)          768       ['block_4_depthwise[0][0]']   \n",
      " hNormalization)                                                                                  \n",
      "                                                                                                  \n",
      " block_4_depthwise_relu (Re  (None, 28, 28, 192)          0         ['block_4_depthwise_BN[0][0]']\n",
      " LU)                                                                                              \n",
      "                                                                                                  \n",
      " block_4_project (Conv2D)    (None, 28, 28, 32)           6144      ['block_4_depthwise_relu[0][0]\n",
      "                                                                    ']                            \n",
      "                                                                                                  \n",
      " block_4_project_BN (BatchN  (None, 28, 28, 32)           128       ['block_4_project[0][0]']     \n",
      " ormalization)                                                                                    \n",
      "                                                                                                  \n",
      " block_4_add (Add)           (None, 28, 28, 32)           0         ['block_3_project_BN[0][0]',  \n",
      "                                                                     'block_4_project_BN[0][0]']  \n",
      "                                                                                                  \n",
      " block_5_expand (Conv2D)     (None, 28, 28, 192)          6144      ['block_4_add[0][0]']         \n",
      "                                                                                                  \n",
      " block_5_expand_BN (BatchNo  (None, 28, 28, 192)          768       ['block_5_expand[0][0]']      \n",
      " rmalization)                                                                                     \n",
      "                                                                                                  \n",
      " block_5_expand_relu (ReLU)  (None, 28, 28, 192)          0         ['block_5_expand_BN[0][0]']   \n",
      "                                                                                                  \n",
      " block_5_depthwise (Depthwi  (None, 28, 28, 192)          1728      ['block_5_expand_relu[0][0]'] \n",
      " seConv2D)                                                                                        \n",
      "                                                                                                  \n",
      " block_5_depthwise_BN (Batc  (None, 28, 28, 192)          768       ['block_5_depthwise[0][0]']   \n",
      " hNormalization)                                                                                  \n",
      "                                                                                                  \n",
      " block_5_depthwise_relu (Re  (None, 28, 28, 192)          0         ['block_5_depthwise_BN[0][0]']\n",
      " LU)                                                                                              \n",
      "                                                                                                  \n",
      " block_5_project (Conv2D)    (None, 28, 28, 32)           6144      ['block_5_depthwise_relu[0][0]\n",
      "                                                                    ']                            \n",
      "                                                                                                  \n",
      " block_5_project_BN (BatchN  (None, 28, 28, 32)           128       ['block_5_project[0][0]']     \n",
      " ormalization)                                                                                    \n",
      "                                                                                                  \n",
      " block_5_add (Add)           (None, 28, 28, 32)           0         ['block_4_add[0][0]',         \n",
      "                                                                     'block_5_project_BN[0][0]']  \n",
      "                                                                                                  \n",
      " block_6_expand (Conv2D)     (None, 28, 28, 192)          6144      ['block_5_add[0][0]']         \n",
      "                                                                                                  \n",
      " block_6_expand_BN (BatchNo  (None, 28, 28, 192)          768       ['block_6_expand[0][0]']      \n",
      " rmalization)                                                                                     \n",
      "                                                                                                  \n",
      " block_6_expand_relu (ReLU)  (None, 28, 28, 192)          0         ['block_6_expand_BN[0][0]']   \n",
      "                                                                                                  \n",
      " block_6_pad (ZeroPadding2D  (None, 29, 29, 192)          0         ['block_6_expand_relu[0][0]'] \n",
      " )                                                                                                \n",
      "                                                                                                  \n",
      " block_6_depthwise (Depthwi  (None, 14, 14, 192)          1728      ['block_6_pad[0][0]']         \n",
      " seConv2D)                                                                                        \n",
      "                                                                                                  \n",
      " block_6_depthwise_BN (Batc  (None, 14, 14, 192)          768       ['block_6_depthwise[0][0]']   \n",
      " hNormalization)                                                                                  \n",
      "                                                                                                  \n",
      " block_6_depthwise_relu (Re  (None, 14, 14, 192)          0         ['block_6_depthwise_BN[0][0]']\n",
      " LU)                                                                                              \n",
      "                                                                                                  \n",
      " block_6_project (Conv2D)    (None, 14, 14, 64)           12288     ['block_6_depthwise_relu[0][0]\n",
      "                                                                    ']                            \n",
      "                                                                                                  \n",
      " block_6_project_BN (BatchN  (None, 14, 14, 64)           256       ['block_6_project[0][0]']     \n",
      " ormalization)                                                                                    \n",
      "                                                                                                  \n",
      " block_7_expand (Conv2D)     (None, 14, 14, 384)          24576     ['block_6_project_BN[0][0]']  \n",
      "                                                                                                  \n",
      " block_7_expand_BN (BatchNo  (None, 14, 14, 384)          1536      ['block_7_expand[0][0]']      \n",
      " rmalization)                                                                                     \n",
      "                                                                                                  \n",
      " block_7_expand_relu (ReLU)  (None, 14, 14, 384)          0         ['block_7_expand_BN[0][0]']   \n",
      "                                                                                                  \n",
      " block_7_depthwise (Depthwi  (None, 14, 14, 384)          3456      ['block_7_expand_relu[0][0]'] \n",
      " seConv2D)                                                                                        \n",
      "                                                                                                  \n",
      " block_7_depthwise_BN (Batc  (None, 14, 14, 384)          1536      ['block_7_depthwise[0][0]']   \n",
      " hNormalization)                                                                                  \n",
      "                                                                                                  \n",
      " block_7_depthwise_relu (Re  (None, 14, 14, 384)          0         ['block_7_depthwise_BN[0][0]']\n",
      " LU)                                                                                              \n",
      "                                                                                                  \n",
      " block_7_project (Conv2D)    (None, 14, 14, 64)           24576     ['block_7_depthwise_relu[0][0]\n",
      "                                                                    ']                            \n",
      "                                                                                                  \n",
      " block_7_project_BN (BatchN  (None, 14, 14, 64)           256       ['block_7_project[0][0]']     \n",
      " ormalization)                                                                                    \n",
      "                                                                                                  \n",
      " block_7_add (Add)           (None, 14, 14, 64)           0         ['block_6_project_BN[0][0]',  \n",
      "                                                                     'block_7_project_BN[0][0]']  \n",
      "                                                                                                  \n",
      " block_8_expand (Conv2D)     (None, 14, 14, 384)          24576     ['block_7_add[0][0]']         \n",
      "                                                                                                  \n",
      " block_8_expand_BN (BatchNo  (None, 14, 14, 384)          1536      ['block_8_expand[0][0]']      \n",
      " rmalization)                                                                                     \n",
      "                                                                                                  \n",
      " block_8_expand_relu (ReLU)  (None, 14, 14, 384)          0         ['block_8_expand_BN[0][0]']   \n",
      "                                                                                                  \n",
      " block_8_depthwise (Depthwi  (None, 14, 14, 384)          3456      ['block_8_expand_relu[0][0]'] \n",
      " seConv2D)                                                                                        \n",
      "                                                                                                  \n",
      " block_8_depthwise_BN (Batc  (None, 14, 14, 384)          1536      ['block_8_depthwise[0][0]']   \n",
      " hNormalization)                                                                                  \n",
      "                                                                                                  \n",
      " block_8_depthwise_relu (Re  (None, 14, 14, 384)          0         ['block_8_depthwise_BN[0][0]']\n",
      " LU)                                                                                              \n",
      "                                                                                                  \n",
      " block_8_project (Conv2D)    (None, 14, 14, 64)           24576     ['block_8_depthwise_relu[0][0]\n",
      "                                                                    ']                            \n",
      "                                                                                                  \n",
      " block_8_project_BN (BatchN  (None, 14, 14, 64)           256       ['block_8_project[0][0]']     \n",
      " ormalization)                                                                                    \n",
      "                                                                                                  \n",
      " block_8_add (Add)           (None, 14, 14, 64)           0         ['block_7_add[0][0]',         \n",
      "                                                                     'block_8_project_BN[0][0]']  \n",
      "                                                                                                  \n",
      " block_9_expand (Conv2D)     (None, 14, 14, 384)          24576     ['block_8_add[0][0]']         \n",
      "                                                                                                  \n",
      " block_9_expand_BN (BatchNo  (None, 14, 14, 384)          1536      ['block_9_expand[0][0]']      \n",
      " rmalization)                                                                                     \n",
      "                                                                                                  \n",
      " block_9_expand_relu (ReLU)  (None, 14, 14, 384)          0         ['block_9_expand_BN[0][0]']   \n",
      "                                                                                                  \n",
      " block_9_depthwise (Depthwi  (None, 14, 14, 384)          3456      ['block_9_expand_relu[0][0]'] \n",
      " seConv2D)                                                                                        \n",
      "                                                                                                  \n",
      " block_9_depthwise_BN (Batc  (None, 14, 14, 384)          1536      ['block_9_depthwise[0][0]']   \n",
      " hNormalization)                                                                                  \n",
      "                                                                                                  \n",
      " block_9_depthwise_relu (Re  (None, 14, 14, 384)          0         ['block_9_depthwise_BN[0][0]']\n",
      " LU)                                                                                              \n",
      "                                                                                                  \n",
      " block_9_project (Conv2D)    (None, 14, 14, 64)           24576     ['block_9_depthwise_relu[0][0]\n",
      "                                                                    ']                            \n",
      "                                                                                                  \n",
      " block_9_project_BN (BatchN  (None, 14, 14, 64)           256       ['block_9_project[0][0]']     \n",
      " ormalization)                                                                                    \n",
      "                                                                                                  \n",
      " block_9_add (Add)           (None, 14, 14, 64)           0         ['block_8_add[0][0]',         \n",
      "                                                                     'block_9_project_BN[0][0]']  \n",
      "                                                                                                  \n",
      " block_10_expand (Conv2D)    (None, 14, 14, 384)          24576     ['block_9_add[0][0]']         \n",
      "                                                                                                  \n",
      " block_10_expand_BN (BatchN  (None, 14, 14, 384)          1536      ['block_10_expand[0][0]']     \n",
      " ormalization)                                                                                    \n",
      "                                                                                                  \n",
      " block_10_expand_relu (ReLU  (None, 14, 14, 384)          0         ['block_10_expand_BN[0][0]']  \n",
      " )                                                                                                \n",
      "                                                                                                  \n",
      " block_10_depthwise (Depthw  (None, 14, 14, 384)          3456      ['block_10_expand_relu[0][0]']\n",
      " iseConv2D)                                                                                       \n",
      "                                                                                                  \n",
      " block_10_depthwise_BN (Bat  (None, 14, 14, 384)          1536      ['block_10_depthwise[0][0]']  \n",
      " chNormalization)                                                                                 \n",
      "                                                                                                  \n",
      " block_10_depthwise_relu (R  (None, 14, 14, 384)          0         ['block_10_depthwise_BN[0][0]'\n",
      " eLU)                                                               ]                             \n",
      "                                                                                                  \n",
      " block_10_project (Conv2D)   (None, 14, 14, 96)           36864     ['block_10_depthwise_relu[0][0\n",
      "                                                                    ]']                           \n",
      "                                                                                                  \n",
      " block_10_project_BN (Batch  (None, 14, 14, 96)           384       ['block_10_project[0][0]']    \n",
      " Normalization)                                                                                   \n",
      "                                                                                                  \n",
      " block_11_expand (Conv2D)    (None, 14, 14, 576)          55296     ['block_10_project_BN[0][0]'] \n",
      "                                                                                                  \n",
      " block_11_expand_BN (BatchN  (None, 14, 14, 576)          2304      ['block_11_expand[0][0]']     \n",
      " ormalization)                                                                                    \n",
      "                                                                                                  \n",
      " block_11_expand_relu (ReLU  (None, 14, 14, 576)          0         ['block_11_expand_BN[0][0]']  \n",
      " )                                                                                                \n",
      "                                                                                                  \n",
      " block_11_depthwise (Depthw  (None, 14, 14, 576)          5184      ['block_11_expand_relu[0][0]']\n",
      " iseConv2D)                                                                                       \n",
      "                                                                                                  \n",
      " block_11_depthwise_BN (Bat  (None, 14, 14, 576)          2304      ['block_11_depthwise[0][0]']  \n",
      " chNormalization)                                                                                 \n",
      "                                                                                                  \n",
      " block_11_depthwise_relu (R  (None, 14, 14, 576)          0         ['block_11_depthwise_BN[0][0]'\n",
      " eLU)                                                               ]                             \n",
      "                                                                                                  \n",
      " block_11_project (Conv2D)   (None, 14, 14, 96)           55296     ['block_11_depthwise_relu[0][0\n",
      "                                                                    ]']                           \n",
      "                                                                                                  \n",
      " block_11_project_BN (Batch  (None, 14, 14, 96)           384       ['block_11_project[0][0]']    \n",
      " Normalization)                                                                                   \n",
      "                                                                                                  \n",
      " block_11_add (Add)          (None, 14, 14, 96)           0         ['block_10_project_BN[0][0]', \n",
      "                                                                     'block_11_project_BN[0][0]'] \n",
      "                                                                                                  \n",
      " block_12_expand (Conv2D)    (None, 14, 14, 576)          55296     ['block_11_add[0][0]']        \n",
      "                                                                                                  \n",
      " block_12_expand_BN (BatchN  (None, 14, 14, 576)          2304      ['block_12_expand[0][0]']     \n",
      " ormalization)                                                                                    \n",
      "                                                                                                  \n",
      " block_12_expand_relu (ReLU  (None, 14, 14, 576)          0         ['block_12_expand_BN[0][0]']  \n",
      " )                                                                                                \n",
      "                                                                                                  \n",
      " block_12_depthwise (Depthw  (None, 14, 14, 576)          5184      ['block_12_expand_relu[0][0]']\n",
      " iseConv2D)                                                                                       \n",
      "                                                                                                  \n",
      " block_12_depthwise_BN (Bat  (None, 14, 14, 576)          2304      ['block_12_depthwise[0][0]']  \n",
      " chNormalization)                                                                                 \n",
      "                                                                                                  \n",
      " block_12_depthwise_relu (R  (None, 14, 14, 576)          0         ['block_12_depthwise_BN[0][0]'\n",
      " eLU)                                                               ]                             \n",
      "                                                                                                  \n",
      " block_12_project (Conv2D)   (None, 14, 14, 96)           55296     ['block_12_depthwise_relu[0][0\n",
      "                                                                    ]']                           \n",
      "                                                                                                  \n",
      " block_12_project_BN (Batch  (None, 14, 14, 96)           384       ['block_12_project[0][0]']    \n",
      " Normalization)                                                                                   \n",
      "                                                                                                  \n",
      " block_12_add (Add)          (None, 14, 14, 96)           0         ['block_11_add[0][0]',        \n",
      "                                                                     'block_12_project_BN[0][0]'] \n",
      "                                                                                                  \n",
      " block_13_expand (Conv2D)    (None, 14, 14, 576)          55296     ['block_12_add[0][0]']        \n",
      "                                                                                                  \n",
      " block_13_expand_BN (BatchN  (None, 14, 14, 576)          2304      ['block_13_expand[0][0]']     \n",
      " ormalization)                                                                                    \n",
      "                                                                                                  \n",
      " block_13_expand_relu (ReLU  (None, 14, 14, 576)          0         ['block_13_expand_BN[0][0]']  \n",
      " )                                                                                                \n",
      "                                                                                                  \n",
      " block_13_pad (ZeroPadding2  (None, 15, 15, 576)          0         ['block_13_expand_relu[0][0]']\n",
      " D)                                                                                               \n",
      "                                                                                                  \n",
      " block_13_depthwise (Depthw  (None, 7, 7, 576)            5184      ['block_13_pad[0][0]']        \n",
      " iseConv2D)                                                                                       \n",
      "                                                                                                  \n",
      " block_13_depthwise_BN (Bat  (None, 7, 7, 576)            2304      ['block_13_depthwise[0][0]']  \n",
      " chNormalization)                                                                                 \n",
      "                                                                                                  \n",
      " block_13_depthwise_relu (R  (None, 7, 7, 576)            0         ['block_13_depthwise_BN[0][0]'\n",
      " eLU)                                                               ]                             \n",
      "                                                                                                  \n",
      " block_13_project (Conv2D)   (None, 7, 7, 160)            92160     ['block_13_depthwise_relu[0][0\n",
      "                                                                    ]']                           \n",
      "                                                                                                  \n",
      " block_13_project_BN (Batch  (None, 7, 7, 160)            640       ['block_13_project[0][0]']    \n",
      " Normalization)                                                                                   \n",
      "                                                                                                  \n",
      " block_14_expand (Conv2D)    (None, 7, 7, 960)            153600    ['block_13_project_BN[0][0]'] \n",
      "                                                                                                  \n",
      " block_14_expand_BN (BatchN  (None, 7, 7, 960)            3840      ['block_14_expand[0][0]']     \n",
      " ormalization)                                                                                    \n",
      "                                                                                                  \n",
      " block_14_expand_relu (ReLU  (None, 7, 7, 960)            0         ['block_14_expand_BN[0][0]']  \n",
      " )                                                                                                \n",
      "                                                                                                  \n",
      " block_14_depthwise (Depthw  (None, 7, 7, 960)            8640      ['block_14_expand_relu[0][0]']\n",
      " iseConv2D)                                                                                       \n",
      "                                                                                                  \n",
      " block_14_depthwise_BN (Bat  (None, 7, 7, 960)            3840      ['block_14_depthwise[0][0]']  \n",
      " chNormalization)                                                                                 \n",
      "                                                                                                  \n",
      " block_14_depthwise_relu (R  (None, 7, 7, 960)            0         ['block_14_depthwise_BN[0][0]'\n",
      " eLU)                                                               ]                             \n",
      "                                                                                                  \n",
      " block_14_project (Conv2D)   (None, 7, 7, 160)            153600    ['block_14_depthwise_relu[0][0\n",
      "                                                                    ]']                           \n",
      "                                                                                                  \n",
      " block_14_project_BN (Batch  (None, 7, 7, 160)            640       ['block_14_project[0][0]']    \n",
      " Normalization)                                                                                   \n",
      "                                                                                                  \n",
      " block_14_add (Add)          (None, 7, 7, 160)            0         ['block_13_project_BN[0][0]', \n",
      "                                                                     'block_14_project_BN[0][0]'] \n",
      "                                                                                                  \n",
      " block_15_expand (Conv2D)    (None, 7, 7, 960)            153600    ['block_14_add[0][0]']        \n",
      "                                                                                                  \n",
      " block_15_expand_BN (BatchN  (None, 7, 7, 960)            3840      ['block_15_expand[0][0]']     \n",
      " ormalization)                                                                                    \n",
      "                                                                                                  \n",
      " block_15_expand_relu (ReLU  (None, 7, 7, 960)            0         ['block_15_expand_BN[0][0]']  \n",
      " )                                                                                                \n",
      "                                                                                                  \n",
      " block_15_depthwise (Depthw  (None, 7, 7, 960)            8640      ['block_15_expand_relu[0][0]']\n",
      " iseConv2D)                                                                                       \n",
      "                                                                                                  \n",
      " block_15_depthwise_BN (Bat  (None, 7, 7, 960)            3840      ['block_15_depthwise[0][0]']  \n",
      " chNormalization)                                                                                 \n",
      "                                                                                                  \n",
      " block_15_depthwise_relu (R  (None, 7, 7, 960)            0         ['block_15_depthwise_BN[0][0]'\n",
      " eLU)                                                               ]                             \n",
      "                                                                                                  \n",
      " block_15_project (Conv2D)   (None, 7, 7, 160)            153600    ['block_15_depthwise_relu[0][0\n",
      "                                                                    ]']                           \n",
      "                                                                                                  \n",
      " block_15_project_BN (Batch  (None, 7, 7, 160)            640       ['block_15_project[0][0]']    \n",
      " Normalization)                                                                                   \n",
      "                                                                                                  \n",
      " block_15_add (Add)          (None, 7, 7, 160)            0         ['block_14_add[0][0]',        \n",
      "                                                                     'block_15_project_BN[0][0]'] \n",
      "                                                                                                  \n",
      " block_16_expand (Conv2D)    (None, 7, 7, 960)            153600    ['block_15_add[0][0]']        \n",
      "                                                                                                  \n",
      " block_16_expand_BN (BatchN  (None, 7, 7, 960)            3840      ['block_16_expand[0][0]']     \n",
      " ormalization)                                                                                    \n",
      "                                                                                                  \n",
      " block_16_expand_relu (ReLU  (None, 7, 7, 960)            0         ['block_16_expand_BN[0][0]']  \n",
      " )                                                                                                \n",
      "                                                                                                  \n",
      " block_16_depthwise (Depthw  (None, 7, 7, 960)            8640      ['block_16_expand_relu[0][0]']\n",
      " iseConv2D)                                                                                       \n",
      "                                                                                                  \n",
      " block_16_depthwise_BN (Bat  (None, 7, 7, 960)            3840      ['block_16_depthwise[0][0]']  \n",
      " chNormalization)                                                                                 \n",
      "                                                                                                  \n",
      " block_16_depthwise_relu (R  (None, 7, 7, 960)            0         ['block_16_depthwise_BN[0][0]'\n",
      " eLU)                                                               ]                             \n",
      "                                                                                                  \n",
      " block_16_project (Conv2D)   (None, 7, 7, 320)            307200    ['block_16_depthwise_relu[0][0\n",
      "                                                                    ]']                           \n",
      "                                                                                                  \n",
      " block_16_project_BN (Batch  (None, 7, 7, 320)            1280      ['block_16_project[0][0]']    \n",
      " Normalization)                                                                                   \n",
      "                                                                                                  \n",
      " Conv_1 (Conv2D)             (None, 7, 7, 1280)           409600    ['block_16_project_BN[0][0]'] \n",
      "                                                                                                  \n",
      " Conv_1_bn (BatchNormalizat  (None, 7, 7, 1280)           5120      ['Conv_1[0][0]']              \n",
      " ion)                                                                                             \n",
      "                                                                                                  \n",
      " out_relu (ReLU)             (None, 7, 7, 1280)           0         ['Conv_1_bn[0][0]']           \n",
      "                                                                                                  \n",
      " global_average_pooling2d (  (None, 1280)                 0         ['out_relu[0][0]']            \n",
      " GlobalAveragePooling2D)                                                                          \n",
      "                                                                                                  \n",
      "==================================================================================================\n",
      "Total params: 2257984 (8.61 MB)\n",
      "Trainable params: 2223872 (8.48 MB)\n",
      "Non-trainable params: 34112 (133.25 KB)\n",
      "__________________________________________________________________________________________________\n"
     ]
    }
   ],
   "source": [
    "new_model.summary()"
   ]
  },
  {
   "cell_type": "code",
   "execution_count": null,
   "metadata": {
    "application/vnd.databricks.v1+cell": {
     "cellMetadata": {
      "byteLimit": 2048000,
      "rowLimit": 10000
     },
     "inputWidgets": {},
     "nuid": "3df789da-a4c0-4cd6-aa5b-d4046d2db444",
     "showTitle": false,
     "title": ""
    }
   },
   "outputs": [],
   "source": [
    "def model_fn():\n",
    "    \"\"\"\n",
    "    Returns a MobileNetV2 model with top layer removed \n",
    "    and broadcasted pretrained weights.\n",
    "    \"\"\"\n",
    "    model = MobileNetV2(weights='imagenet',\n",
    "                        include_top=True,\n",
    "                        input_shape=(224, 224, 3))\n",
    "    for layer in model.layers:\n",
    "        layer.trainable = False\n",
    "    new_model = Model(inputs=model.input,\n",
    "                  outputs=model.layers[-2].output)\n",
    "    new_model.set_weights(brodcast_weights.value)\n",
    "    return new_model"
   ]
  },
  {
   "cell_type": "markdown",
   "metadata": {
    "application/vnd.databricks.v1+cell": {
     "cellMetadata": {},
     "inputWidgets": {},
     "nuid": "009e01d9-10a4-4350-ae24-de1f84c7028b",
     "showTitle": false,
     "title": ""
    }
   },
   "source": [
    "#### Définition du processus de chargement des images <br/> et application de leur featurisation à travers l'utilisation de pandas UDF"
   ]
  },
  {
   "cell_type": "code",
   "execution_count": null,
   "metadata": {
    "application/vnd.databricks.v1+cell": {
     "cellMetadata": {
      "byteLimit": 2048000,
      "rowLimit": 10000
     },
     "inputWidgets": {},
     "nuid": "f29c7754-62bb-4cff-a065-6b2c3e5b252a",
     "showTitle": false,
     "title": ""
    },
    "scrolled": true
   },
   "outputs": [
    {
     "name": "stderr",
     "output_type": "stream",
     "text": [
      "/databricks/spark/python/pyspark/sql/pandas/functions.py:440: UserWarning: In Python 3.6+ and Spark 3.0+, it is preferred to specify type hints for pandas UDF instead of specifying pandas UDF type which will be deprecated in the future releases. See SPARK-28264 for more details.\n",
      "  warnings.warn(\n"
     ]
    }
   ],
   "source": [
    "def preprocess(content):\n",
    "    \"\"\"\n",
    "    Preprocesses raw image bytes for prediction.\n",
    "    \"\"\"\n",
    "    img = Image.open(io.BytesIO(content)).resize([224, 224])\n",
    "    arr = img_to_array(img)\n",
    "    return preprocess_input(arr)\n",
    "\n",
    "def featurize_series(model, content_series):\n",
    "    \"\"\"\n",
    "    Featurize a pd.Series of raw images using the input model.\n",
    "    :return: a pd.Series of image features\n",
    "    \"\"\"\n",
    "    input = np.stack(content_series.map(preprocess))\n",
    "    preds = model.predict(input)\n",
    "    # For some layers, output features will be multi-dimensional tensors.\n",
    "    # We flatten the feature tensors to vectors for easier storage in Spark DataFrames.\n",
    "    output = [p.flatten() for p in preds]\n",
    "    return pd.Series(output)\n",
    "\n",
    "@pandas_udf('array<float>', PandasUDFType.SCALAR_ITER)\n",
    "def featurize_udf(content_series_iter):\n",
    "    '''\n",
    "    This method is a Scalar Iterator pandas UDF wrapping our featurization function.\n",
    "    The decorator specifies that this returns a Spark DataFrame column of type ArrayType(FloatType).\n",
    "\n",
    "    :param content_series_iter: This argument is an iterator over batches of data, where each batch\n",
    "                              is a pandas Series of image data.\n",
    "    '''\n",
    "    # With Scalar Iterator pandas UDFs, we can load the model once and then re-use it\n",
    "    # for multiple data batches.  This amortizes the overhead of loading big models.\n",
    "    model = model_fn()\n",
    "    for content_series in content_series_iter:\n",
    "        yield featurize_series(model, content_series)"
   ]
  },
  {
   "cell_type": "markdown",
   "metadata": {
    "application/vnd.databricks.v1+cell": {
     "cellMetadata": {},
     "inputWidgets": {},
     "nuid": "42e9cd90-d258-42c2-be2e-3dfaad44b349",
     "showTitle": false,
     "title": ""
    }
   },
   "source": [
    "#### Exécutions des actions d'extractions de features"
   ]
  },
  {
   "cell_type": "code",
   "execution_count": null,
   "metadata": {
    "application/vnd.databricks.v1+cell": {
     "cellMetadata": {
      "byteLimit": 2048000,
      "rowLimit": 10000
     },
     "inputWidgets": {},
     "nuid": "80a8dcf2-b213-4d38-96c7-dd485f4b2d32",
     "showTitle": false,
     "title": ""
    }
   },
   "outputs": [],
   "source": [
    "# spark.conf.set(\"spark.sql.execution.arrow.maxRecordsPerBatch\", \"1024\")"
   ]
  },
  {
   "cell_type": "code",
   "execution_count": null,
   "metadata": {
    "application/vnd.databricks.v1+cell": {
     "cellMetadata": {
      "byteLimit": 2048000,
      "rowLimit": 10000
     },
     "inputWidgets": {},
     "nuid": "6a0c0bbb-4158-4fc7-80f9-22835a88af63",
     "showTitle": false,
     "title": ""
    }
   },
   "outputs": [],
   "source": [
    "features_df = images.repartition(24).select(col(\"path\"),\n",
    "                                            col(\"label\"),\n",
    "                                            featurize_udf(\"content\").alias(\"features\")\n",
    "                                           )"
   ]
  },
  {
   "cell_type": "code",
   "execution_count": null,
   "metadata": {
    "application/vnd.databricks.v1+cell": {
     "cellMetadata": {
      "byteLimit": 2048000,
      "rowLimit": 10000
     },
     "inputWidgets": {},
     "nuid": "5f57486d-eb42-46f2-9a66-35adf4e9588e",
     "showTitle": false,
     "title": ""
    }
   },
   "outputs": [
    {
     "name": "stdout",
     "output_type": "stream",
     "text": [
      "s3://projet9/Results\n"
     ]
    }
   ],
   "source": [
    "print(PATH_Result)"
   ]
  },
  {
   "cell_type": "code",
   "execution_count": null,
   "metadata": {
    "application/vnd.databricks.v1+cell": {
     "cellMetadata": {
      "byteLimit": 2048000,
      "rowLimit": 10000
     },
     "inputWidgets": {},
     "nuid": "d50a6248-86e7-43a3-b395-00c72c135518",
     "showTitle": false,
     "title": ""
    }
   },
   "outputs": [],
   "source": [
    "features_df.write.mode(\"overwrite\").parquet(PATH_Result)"
   ]
  },
  {
   "cell_type": "markdown",
   "metadata": {
    "application/vnd.databricks.v1+cell": {
     "cellMetadata": {},
     "inputWidgets": {},
     "nuid": "b0804914-6bcb-4ea9-aec6-64bf09b090fc",
     "showTitle": false,
     "title": ""
    }
   },
   "source": [
    "###  Chargement des données enregistrées et validation du résultat"
   ]
  },
  {
   "cell_type": "code",
   "execution_count": null,
   "metadata": {
    "application/vnd.databricks.v1+cell": {
     "cellMetadata": {
      "byteLimit": 2048000,
      "rowLimit": 10000
     },
     "inputWidgets": {},
     "nuid": "a4fa764f-cc43-4c2b-8d91-22af703f7f23",
     "showTitle": false,
     "title": ""
    }
   },
   "outputs": [],
   "source": [
    "spark.conf.set(\"fs.s3a.access.key\", \"XXXXXXXXXXXXXXXXXXXXXXXXXXXX\")\n",
    "spark.conf.set(\"fs.s3a.secret.key\", \"XXXXXXXXXXXXXXXXXXXXXXXXXXXXXXXX\")\n",
    "\n",
    "df = spark.read.parquet(PATH_Result, format=\"parquet\", engine='pyarrow')\n"
   ]
  },
  {
   "cell_type": "code",
   "execution_count": null,
   "metadata": {
    "application/vnd.databricks.v1+cell": {
     "cellMetadata": {
      "byteLimit": 2048000,
      "rowLimit": 10000
     },
     "inputWidgets": {},
     "nuid": "1a09f11d-38db-4180-bb85-0e96bfe80023",
     "showTitle": false,
     "title": ""
    }
   },
   "outputs": [
    {
     "data": {
      "text/plain": [
       "Row(path='dbfs:/mnt/s3/Test1/Apple Braeburn/r_324_100.jpg', label='Apple Braeburn', features=[0.0, 0.0, 0.0, 0.0, 0.0, 0.3567659854888916, 0.0, 0.0, 0.4790845513343811, 0.0, 0.0, 0.11472087353467941, 0.0, 0.21677826344966888, 0.0, 0.12471695989370346, 0.0, 0.0, 0.03761693462729454, 0.18193046748638153, 0.7525757551193237, 0.001459715305827558, 0.0, 0.08489514142274857, 0.0766235888004303, 0.0, 0.0, 0.0, 0.035098347812891006, 0.29426267743110657, 0.3976087272167206, 0.0, 0.0, 0.0, 0.0, 0.4807571768760681, 0.395297110080719, 1.9173842668533325, 0.03558724373579025, 0.0, 0.050677601248025894, 0.0, 0.018720898777246475, 1.138931155204773, 0.0, 0.0, 0.28014299273490906, 0.44888079166412354, 0.03797989338636398, 0.006397286430001259, 0.0, 0.5280892848968506, 0.0, 0.8200268745422363, 0.0, 2.8976383209228516, 0.050280775874853134, 0.0, 0.0, 0.18777263164520264, 0.0, 0.9550777077674866, 0.10281313955783844, 0.0, 1.6376429796218872, 0.10090731829404831, 0.3317829966545105, 0.0, 0.023321745917201042, 2.3714849948883057, 0.0, 0.7424173355102539, 0.019704097881913185, 0.0634671226143837, 2.1494977474212646, 0.0, 0.12679360806941986, 0.0, 0.0, 0.0, 0.0, 0.9974050521850586, 0.0, 0.01875421032309532, 0.20763427019119263, 0.09877699613571167, 0.0, 0.0, 0.0, 0.0, 2.274771213531494, 0.028045693412423134, 0.0, 0.05719096213579178, 2.131664991378784, 0.0, 0.0, 0.0, 0.0, 0.0007509017596021295, 4.10546875, 0.01317175105214119, 0.0008254148415289819, 0.0, 0.0, 0.0, 0.8109130859375, 0.49839121103286743, 0.0, 0.0, 0.0, 0.0, 0.0, 1.1823948621749878, 0.006616397760808468, 0.6301314830780029, 0.19308944046497345, 0.0, 0.1196400374174118, 1.0881646871566772, 0.6301044821739197, 0.016571443527936935, 0.0, 0.8672451376914978, 1.0511771440505981, 0.018787480890750885, 0.08198370039463043, 0.6484375596046448, 0.5084705948829651, 1.5403075218200684, 0.0, 2.837538480758667, 0.022931234911084175, 0.0, 0.0, 0.0, 0.0, 0.0, 0.006899308413267136, 0.6041011214256287, 0.0, 0.627977192401886, 0.0, 0.5427108407020569, 0.0, 0.02261359430849552, 1.4501341581344604, 1.173990249633789, 0.6864649653434753, 0.1300591081380844, 1.5972645282745361, 0.0, 1.0802228450775146, 0.0, 0.03679469972848892, 0.031306199729442596, 0.3175412714481354, 0.19390209019184113, 0.17403151094913483, 0.0, 0.13643679022789001, 0.0, 0.06266465783119202, 0.05458611994981766, 0.00938098318874836, 1.8739396333694458, 0.0, 0.004147471394389868, 0.4225468635559082, 0.11968249082565308, 0.33409446477890015, 0.5599339008331299, 0.0, 0.0, 0.0, 0.14880549907684326, 0.0097901476547122, 0.0, 0.0, 0.0, 0.0, 0.6166059374809265, 2.3732924461364746, 0.0, 0.9113279581069946, 1.9362543821334839, 0.003751414129510522, 1.1975748538970947, 0.0, 0.0, 0.043449558317661285, 0.00496366061270237, 0.0, 0.0, 0.0, 0.02230638451874256, 0.0, 0.13204430043697357, 0.01934722065925598, 0.0023947444278746843, 0.0, 0.03898051381111145, 0.0, 2.3296058177948, 0.0, 0.12376047670841217, 0.0, 0.053429339081048965, 0.02317032590508461, 0.0, 0.0, 0.0, 0.8364182114601135, 0.0, 0.0, 1.9229075908660889, 0.07744123786687851, 0.0, 0.0, 0.0, 0.05467602610588074, 0.0, 0.0, 0.9901289939880371, 0.0, 0.0, 0.10955090075731277, 0.04670950025320053, 0.8041089773178101, 0.0, 0.6734822392463684, 0.8213987350463867, 0.03356194123625755, 0.0, 0.0, 0.0, 0.5406667590141296, 0.0, 0.0, 0.7137333750724792, 0.7371503710746765, 0.0, 0.0, 0.0, 0.17692121863365173, 0.25126320123672485, 0.03821134567260742, 0.0, 0.0, 0.005642686504870653, 0.0, 0.0, 0.028254792094230652, 0.0, 0.16761310398578644, 2.1223533153533936, 2.5441830158233643, 4.2083001136779785, 0.17653363943099976, 1.1300835609436035, 0.0, 2.3352651596069336, 0.026714032515883446, 0.40974414348602295, 0.003694855375215411, 0.5174323320388794, 0.0, 0.0, 0.0, 1.4665369987487793, 0.005283034406602383, 0.0, 0.0, 0.0, 0.13529139757156372, 0.935273289680481, 0.0, 1.2261015176773071, 0.28183770179748535, 0.0, 1.5054490566253662, 0.0, 0.0, 0.21031434834003448, 2.059382200241089, 0.45684316754341125, 0.0, 0.0, 0.16092079877853394, 0.0, 0.0, 0.5587093830108643, 0.010938226245343685, 0.0, 0.0, 0.352557897567749, 0.0, 0.7419916987419128, 0.0, 0.07234829664230347, 0.0, 0.03632759675383568, 0.7017946839332581, 0.0006321498076431453, 0.49646633863449097, 0.0, 0.0, 0.0, 2.0940070152282715, 0.17196328938007355, 0.6783195734024048, 0.041924212127923965, 0.008064357563853264, 0.9837450385093689, 0.3916485905647278, 0.6152952909469604, 0.1757955402135849, 0.0, 0.0, 0.0, 0.0, 0.7061876654624939, 0.0, 0.055623870342969894, 0.0, 0.0, 0.0, 0.0, 0.0, 0.0, 0.0, 0.0, 0.0, 1.5410561561584473, 2.497859239578247, 0.0, 0.42913588881492615, 0.0, 0.0, 1.2608561515808105, 0.0, 0.2506313621997833, 0.0, 0.0, 0.7545677423477173, 0.5150377750396729, 0.0, 0.0, 0.0, 0.0, 0.9340971112251282, 0.0, 0.015833836048841476, 1.033265471458435, 0.0, 0.0, 0.0, 0.0, 2.1183178424835205, 0.0, 0.06674447655677795, 0.3823145925998688, 0.020735273137688637, 0.19478531181812286, 0.0, 0.4219833314418793, 0.20727220177650452, 0.0, 0.0, 0.14313898980617523, 0.0, 0.0, 0.0, 0.0, 1.2632073163986206, 0.0, 0.0, 0.8477455973625183, 0.011200865730643272, 0.0, 0.05371521785855293, 0.015402472577989101, 0.008492810651659966, 0.0, 0.0, 0.0, 0.8128833174705505, 0.0, 0.7927797436714172, 0.31988924741744995, 1.0061432123184204, 0.0, 0.0, 0.0, 0.9831021428108215, 0.009934152476489544, 1.8549818992614746, 2.0419840812683105, 0.0, 0.01563194766640663, 0.13624900579452515, 0.0, 0.0742165818810463, 0.02495490200817585, 0.0, 2.0842928886413574, 0.3299306631088257, 0.0, 0.021112734451889992, 0.3889480233192444, 0.0, 0.9155464768409729, 0.0, 0.0, 0.15402984619140625, 0.0, 0.0, 0.8409110307693481, 0.2699200212955475, 0.7481603026390076, 0.0, 1.265892505645752, 0.22094260156154633, 0.047421932220458984, 0.0074975634925067425, 0.034381281584501266, 1.9778342247009277, 1.2755681276321411, 0.0, 0.0, 0.1450139880180359, 0.0, 0.0, 0.0, 0.25160035490989685, 0.0, 0.0, 1.0539122819900513, 0.1632084846496582, 0.02372811734676361, 0.017414841800928116, 0.010951129719614983, 0.38621383905410767, 0.3566977381706238, 0.5661705136299133, 2.032627582550049, 0.8511324524879456, 0.0, 0.4001413881778717, 0.0, 0.0, 0.0, 0.0, 0.7000918984413147, 0.0836428627371788, 1.0779881477355957, 0.0, 0.003741244785487652, 0.0, 0.0, 1.747977375984192, 0.12521514296531677, 0.0, 0.0, 0.7542597055435181, 0.04400361329317093, 2.8562207221984863, 0.04611219838261604, 0.6583890318870544, 0.0, 0.012318163178861141, 0.0835232213139534, 0.0, 0.012252009473741055, 0.06537586450576782, 0.0, 0.011697088368237019, 0.006196333561092615, 0.11626695841550827, 1.0673373937606812, 0.05307020619511604, 0.0, 0.17817692458629608, 0.02738111838698387, 0.26561081409454346, 0.6510605812072754, 1.1345361471176147, 0.0, 0.0, 0.012944844551384449, 0.9023981094360352, 0.0, 0.0, 0.8404312133789062, 2.0489449501037598, 0.03562871739268303, 0.08291806280612946, 1.1871672868728638, 0.1768469363451004, 0.0, 0.010402143932878971, 0.8675426840782166, 0.0, 0.0, 0.01216195523738861, 0.0, 0.5341402292251587, 0.0, 0.0, 0.0, 0.2746015787124634, 0.0, 0.0, 0.0, 0.0, 0.8527841567993164, 0.0, 0.04057855159044266, 0.4540432393550873, 0.0, 0.0, 1.8137269020080566, 0.0, 1.6657079458236694, 0.0, 0.39286625385284424, 0.0, 0.0077113620936870575, 0.3608275353908539, 0.37119507789611816, 1.3619903326034546, 1.9442362785339355, 0.0, 0.3714714050292969, 0.0, 3.8233306407928467, 0.5463293194770813, 0.0, 0.0073425136506557465, 0.0, 0.0, 0.0, 0.0009736138745211065, 0.04412031173706055, 0.0, 1.4715203046798706, 0.0, 2.0860984325408936, 2.1627800464630127, 0.12797671556472778, 0.0, 0.0, 0.0, 1.1271839141845703, 0.1211119219660759, 0.0, 0.0, 0.0, 0.4484478235244751, 1.5124245882034302, 1.3938013315200806, 0.12600159645080566, 0.0, 1.1441702842712402, 0.0, 0.0, 1.622658371925354, 0.0, 0.047830697149038315, 0.0, 0.0, 0.1424569934606552, 0.05856682360172272, 0.0, 0.0, 0.0, 0.032680921256542206, 0.18335624039173126, 0.0, 0.7270716428756714, 0.1027228981256485, 0.19030769169330597, 0.0, 0.0, 0.0, 0.062396593391895294, 1.463966965675354, 0.0, 0.24257519841194153, 0.44848185777664185, 0.596558690071106, 0.0, 0.21433588862419128, 2.4808831214904785, 1.4422273635864258, 0.03698718920350075, 0.0, 0.012239952571690083, 2.145897626876831, 0.0, 0.0, 0.022837871685624123, 0.0, 0.0, 0.0, 0.0, 0.33726462721824646, 0.0, 0.0, 0.0, 0.6404795050621033, 0.11063586175441742, 0.0, 0.0, 0.0, 0.0, 0.30412954092025757, 0.073056161403656, 0.0, 0.0, 0.0, 0.0, 0.22231121361255646, 0.6887001991271973, 0.018754880875349045, 0.0, 0.0, 0.0, 0.0, 0.0, 0.24161987006664276, 0.0, 0.0, 0.0, 0.0, 0.0, 0.0, 0.38708075881004333, 0.10916443169116974, 1.4970378875732422, 0.04894575849175453, 3.175104856491089, 0.19472236931324005, 0.0, 0.5376883745193481, 1.0546046495437622, 0.0, 0.0, 1.2798570394515991, 0.0, 0.0, 0.824440598487854, 0.0, 0.21652062237262726, 0.11489114910364151, 0.0, 0.059357788413763046, 1.2821608781814575, 0.0, 0.5548022389411926, 0.2044776976108551, 0.0, 0.0, 0.0, 0.021941203624010086, 0.0, 0.0, 0.20381399989128113, 0.2421136200428009, 0.0, 0.0, 1.0840866565704346, 1.2609264850616455, 0.0, 0.6676762104034424, 1.1395503282546997, 0.0, 0.0, 0.26216593384742737, 0.0, 0.0, 0.0, 0.0, 0.0, 0.1868896484375, 0.9838389754295349, 1.7528116703033447, 0.5049259662628174, 0.0, 1.8559436798095703, 1.0310883522033691, 0.0, 0.0, 0.0, 0.0, 0.18228375911712646, 0.0, 0.004029575735330582, 0.0, 0.00022249805624596775, 0.0, 0.0, 0.0, 0.0, 0.0, 0.0, 0.02344428189098835, 0.0, 0.10045478492975235, 0.0, 0.0, 0.03549160435795784, 0.02803426794707775, 0.0, 1.4485663175582886, 0.41936150193214417, 0.36677223443984985, 1.4666632413864136, 0.0, 0.042191166430711746, 0.06006194278597832, 0.0, 0.753588855266571, 0.0, 0.0034399908035993576, 0.12097399681806564, 0.011904707178473473, 0.7829205989837646, 0.0, 0.0, 0.0, 0.026259705424308777, 0.11809955537319183, 0.1778360903263092, 0.0, 0.11351972073316574, 0.015999453142285347, 0.0, 0.11074167490005493, 0.0019231231417506933, 0.0, 0.07319504022598267, 0.0, 0.6200870871543884, 0.007387628313153982, 0.0, 0.0, 0.029616808518767357, 0.14576613903045654, 0.0, 0.0, 0.0, 0.044964760541915894, 0.3103475868701935, 2.102236747741699, 0.0, 1.0695571899414062, 0.0, 0.8904268145561218, 0.0, 0.0, 0.0, 0.0, 0.0, 0.0, 1.3458219766616821, 0.679156482219696, 1.4182226657867432, 0.0064825816079974174, 0.0, 3.21541428565979, 1.594673991203308, 0.0, 0.9793905019760132, 0.0, 0.06282263994216919, 0.27502837777137756, 0.08992938697338104, 0.0716976597905159, 0.21011939644813538, 0.0, 1.4765808582305908, 0.0, 0.0, 0.049127090722322464, 0.617138683795929, 0.003845964092761278, 0.0, 0.0, 0.007856106385588646, 0.0, 2.120891571044922, 0.0, 0.4605472683906555, 0.0, 0.0, 0.0, 0.0, 0.0, 0.100985087454319, 2.195606231689453, 0.0, 0.0, 0.0, 2.7447452545166016, 0.011526175774633884, 0.1030588373541832, 0.6529463529586792, 0.0, 0.731321394443512, 0.0, 0.030148379504680634, 0.0036796063650399446, 0.25509676337242126, 0.0, 0.5000369548797607, 0.0, 0.0, 0.0, 1.5916006565093994, 1.0538374185562134, 0.055852655321359634, 0.0, 0.04787255451083183, 0.04978187754750252, 0.06614049524068832, 0.0, 2.564284563064575, 0.0, 1.0567651987075806, 0.0, 0.0621354915201664, 0.023894641548395157, 0.0, 0.0, 0.02400805987417698, 0.985078752040863, 0.9089330434799194, 0.32907596230506897, 0.021001407876610756, 0.0, 0.05735008046030998, 0.0011463651899248362, 0.0, 1.510664939880371, 0.3801012635231018, 0.0, 0.06733008474111557, 0.0, 0.0, 0.003935045097023249, 2.861686944961548, 0.033675145357847214, 0.2519274055957794, 0.3418673574924469, 0.0, 0.22720563411712646, 0.0, 0.0, 0.0, 2.1420040130615234, 0.03549203276634216, 0.015917086973786354, 0.0, 0.0, 0.0, 0.0, 0.0, 0.9349521994590759, 0.12142280489206314, 0.016437092795968056, 0.11396641284227371, 0.45466870069503784, 0.39509543776512146, 0.007679238449782133, 0.0, 0.0, 0.26528725028038025, 0.22747980058193207, 0.2856731712818146, 0.0, 1.7764207124710083, 0.0847664549946785, 0.0, 0.0, 0.6868253350257874, 3.5300300121307373, 0.05257156118750572, 0.6962429881095886, 0.0, 0.4788798987865448, 0.01202655304223299, 0.02118661440908909, 0.9830554127693176, 0.0, 0.01031643059104681, 1.1830719709396362, 0.0044030072167515755, 0.5131112933158875, 0.6007105708122253, 0.0022315201349556446, 0.13112308084964752, 0.0, 0.0, 0.2853483557701111, 0.0, 0.0, 0.0, 0.0, 1.963514804840088, 0.0, 0.0, 0.004133604001253843, 0.007862314581871033, 0.0, 0.0, 0.02978367730975151, 0.5271034836769104, 0.0, 0.07853962481021881, 0.0, 0.0018580300966277719, 0.2929729223251343, 0.0, 0.4237174689769745, 0.0, 0.05127265676856041, 0.028279274702072144, 0.5058274269104004, 0.0, 0.0, 0.27853813767433167, 1.3111058473587036, 1.204811692237854, 0.0, 0.0, 0.04481266811490059, 0.0021456016693264246, 0.0, 0.566514253616333, 0.0, 0.0, 0.0, 2.9728589057922363, 0.1313258856534958, 0.1735858917236328, 1.1232672929763794, 0.0, 0.028687935322523117, 0.0005756300524808466, 0.09853950142860413, 1.4741817712783813, 0.0, 0.0, 0.0, 0.1906178891658783, 0.7278504371643066, 0.0, 0.0, 0.0, 0.012177633121609688, 0.0, 0.5243517756462097, 0.0, 0.8343892693519592, 0.03677191957831383, 0.0, 0.17923755943775177, 0.031166836619377136, 0.012815076857805252, 0.0, 2.8320224285125732, 0.03257790207862854, 3.9016289710998535, 0.025995371863245964, 0.0, 0.0, 0.0, 0.0, 0.3750479519367218, 0.0, 0.0, 0.0, 0.0, 0.38497987389564514, 0.0, 0.0, 0.0, 0.0, 0.1369456797838211, 0.0, 0.0, 0.0, 0.011600037105381489, 0.12895071506500244, 0.02557363361120224, 0.0, 0.0, 0.1349043846130371, 0.48210957646369934, 0.0, 0.0, 0.13020426034927368, 0.0, 0.0, 0.5946192145347595, 0.7278404831886292, 0.11174917221069336, 0.0, 0.1281057596206665, 0.025084543973207474, 0.0, 0.0, 0.0025027040392160416, 0.0, 0.015750505030155182, 0.1644367277622223, 1.6133793592453003, 0.0, 0.0, 2.718369483947754, 2.7009072303771973, 0.0, 0.3619794249534607, 0.0, 0.0, 0.2904081642627716, 0.0556214302778244, 0.0, 0.0, 0.046628717333078384, 0.0, 0.0381665900349617, 1.8854035139083862, 0.0186994019895792, 0.00930012483149767, 0.0, 0.20152688026428223, 0.0, 0.0, 0.0, 0.0, 0.0, 0.00043844690662808716, 0.0, 0.38360416889190674, 0.014110594056546688, 0.06379308551549911, 0.0, 0.5998548865318298, 0.0, 0.0, 0.4520763158798218, 0.49885180592536926, 2.1360023021698, 0.11402218043804169, 0.0, 1.547581434249878, 0.0, 0.0, 0.251108318567276, 0.0, 0.0, 0.004808396566659212, 0.06476271152496338, 0.05457645654678345, 1.321040391921997, 1.3494619131088257, 0.0368804931640625, 0.0, 1.7128530740737915, 0.34855782985687256, 0.521048903465271, 0.0, 0.0, 0.0, 0.0, 0.2559854984283447, 0.6698548197746277, 0.08155078440904617, 0.0, 0.0, 0.10473838448524475, 0.0, 0.2958770990371704, 0.33946430683135986, 0.0, 1.3680464029312134, 0.0, 2.491513729095459, 0.045423343777656555, 0.0, 0.607093870639801, 0.19428640604019165, 0.0, 0.0, 0.0, 0.005163854453712702, 0.08378566056489944, 0.0, 0.014270967803895473, 0.0, 0.0, 0.0, 0.10963083803653717, 0.18886655569076538, 0.6429100036621094, 0.0, 0.0, 0.0, 0.2259731888771057, 0.01725948043167591, 0.15348143875598907, 0.0, 0.11045318096876144, 0.0, 0.10886653512716293, 0.0, 0.0, 1.0972962379455566, 0.11269236356019974, 0.009079991839826107, 0.0, 0.0, 0.7913752794265747, 0.6947135329246521, 0.0, 2.0452518463134766, 0.12832795083522797, 0.9265706539154053, 0.0, 0.6754071116447449, 0.0, 0.014730346389114857, 2.5403878688812256, 0.0, 0.0, 1.131056547164917, 0.02383533865213394, 0.0, 0.0, 0.0, 0.0, 0.6776552796363831, 2.3712007999420166, 0.0, 0.0, 0.0, 0.0, 0.006109130568802357, 0.5217441916465759, 0.5317131280899048, 0.20212897658348083, 0.04373736307024956, 0.13492509722709656, 0.0, 0.0, 0.0, 0.011195143684744835, 0.2722281515598297, 0.9356496334075928, 0.0, 0.8337979316711426, 0.0, 0.0, 0.0, 0.0, 0.0, 0.001818754244595766, 0.12268231809139252, 0.05185580626130104, 0.0, 0.796659529209137, 0.0, 0.0, 0.0, 0.0, 0.07826299965381622, 0.24962329864501953, 0.0, 0.0, 0.15192991495132446, 0.21223866939544678, 0.01844216324388981, 0.9471664428710938, 0.07478135079145432, 0.012594213709235191, 1.1037015914916992, 0.3751874566078186, 0.5687773823738098, 0.0, 0.0, 0.2717486619949341, 0.5250079035758972, 2.7131247520446777, 0.012470673769712448, 0.3359842896461487, 0.0, 1.5312256813049316, 0.8286822438240051, 0.0017837699269875884, 1.1636414527893066, 0.025456778705120087, 0.0, 0.49482661485671997, 0.0, 0.0, 0.0, 0.0, 0.054979849606752396, 0.0, 0.0, 0.0, 0.6804222464561462, 0.599582850933075, 0.001127982628531754, 0.282116174697876, 0.0, 0.0, 0.0, 0.0, 1.4180612564086914, 0.0, 2.597900629043579, 0.15105044841766357, 1.748060941696167, 1.6597822904586792, 0.0, 1.192276954650879, 0.030572034418582916, 0.8844735026359558, 0.8558741211891174, 0.0, 0.0, 0.9293833374977112, 0.0, 0.0, 0.0, 0.0, 0.03694681078195572, 0.0, 0.0, 0.0, 0.0, 0.0, 0.8455736041069031, 0.06700851768255234, 0.11847934126853943, 0.03391769900918007, 0.0, 0.0, 0.8346306681632996, 0.005309221800416708, 0.04101209342479706, 0.0, 0.47452616691589355, 0.0, 0.018817979842424393, 0.0049386899918317795, 0.1407352238893509, 0.0, 1.2401601076126099, 0.0, 2.0074522495269775, 0.0, 0.0, 0.024477539584040642, 0.4629705250263214, 1.0270181894302368, 0.667183518409729, 0.0009089294471777976, 0.0, 0.0, 0.0, 0.2873214781284332, 0.0, 0.0, 0.0, 0.0, 0.0])"
      ]
     },
     "execution_count": 32,
     "metadata": {},
     "output_type": "execute_result"
    }
   ],
   "source": [
    "df.head()"
   ]
  },
  {
   "cell_type": "code",
   "execution_count": null,
   "metadata": {
    "application/vnd.databricks.v1+cell": {
     "cellMetadata": {
      "byteLimit": 2048000,
      "rowLimit": 10000
     },
     "inputWidgets": {},
     "nuid": "ba1123b1-097e-4181-8565-706282134b31",
     "showTitle": false,
     "title": ""
    }
   },
   "outputs": [
    {
     "data": {
      "text/plain": [
       "1280"
      ]
     },
     "execution_count": 49,
     "metadata": {},
     "output_type": "execute_result"
    }
   ],
   "source": [
    "len(df.select('features').first()[0])"
   ]
  },
  {
   "cell_type": "code",
   "execution_count": null,
   "metadata": {
    "application/vnd.databricks.v1+cell": {
     "cellMetadata": {
      "byteLimit": 2048000,
      "rowLimit": 10000
     },
     "inputWidgets": {},
     "nuid": "9a2bab75-2ec7-478c-8291-50a9920dba21",
     "showTitle": false,
     "title": ""
    }
   },
   "outputs": [
    {
     "name": "stdout",
     "output_type": "stream",
     "text": [
      "Number of rows: 312\n",
      "Number of columns: 3\n"
     ]
    }
   ],
   "source": [
    "num_rows = df.count()\n",
    "num_cols = len(df.columns)\n",
    "\n",
    "print(f\"Number of rows: {num_rows}\")\n",
    "print(f\"Number of columns: {num_cols}\")\n"
   ]
  }
 ],
 "metadata": {
  "application/vnd.databricks.v1+notebook": {
   "dashboards": [],
   "language": "python",
   "notebookMetadata": {
    "pythonIndentUnit": 4
   },
   "notebookName": "P8_Notebook_Linux_EMR_PySpark_V1.0",
   "widgets": {}
  },
  "kernelspec": {
   "display_name": "Python 3 (ipykernel)",
   "language": "python",
   "name": "python3"
  },
  "language_info": {
   "codemirror_mode": {
    "name": "ipython",
    "version": 3
   },
   "file_extension": ".py",
   "mimetype": "text/x-python",
   "name": "python",
   "nbconvert_exporter": "python",
   "pygments_lexer": "ipython3",
   "version": "3.11.2"
  },
  "toc": {
   "base_numbering": 1,
   "nav_menu": {},
   "number_sections": true,
   "sideBar": true,
   "skip_h1_title": false,
   "title_cell": "Table of Contents",
   "title_sidebar": "Contents",
   "toc_cell": false,
   "toc_position": {
    "height": "calc(100% - 180px)",
    "left": "10px",
    "top": "150px",
    "width": "432.4px"
   },
   "toc_section_display": true,
   "toc_window_display": true
  }
 },
 "nbformat": 4,
 "nbformat_minor": 0
}
